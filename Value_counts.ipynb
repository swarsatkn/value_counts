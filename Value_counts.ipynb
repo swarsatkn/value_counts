{
 "cells": [
  {
   "cell_type": "code",
   "execution_count": 2,
   "metadata": {},
   "outputs": [],
   "source": [
    "import pandas as pd\n",
    "import os\n",
    "import sys\n",
    "import glob as gl"
   ]
  },
  {
   "cell_type": "code",
   "execution_count": 161,
   "metadata": {},
   "outputs": [],
   "source": [
    "#path to dataframe\n",
    "data = '/home/user/Swarsat_KN/Copy of ASCO.xlsx'"
   ]
  },
  {
   "cell_type": "code",
   "execution_count": 7,
   "metadata": {},
   "outputs": [],
   "source": [
    "#path to output folder \n",
    "output = '/home/user/Swarsat_KN/value_counts'"
   ]
  },
  {
   "cell_type": "code",
   "execution_count": 163,
   "metadata": {},
   "outputs": [],
   "source": [
    "def fetch_file(df):\n",
    "    \n",
    "    if df.endswith('csv'):\n",
    "        df = pd.read_csv(df)\n",
    "        \n",
    "    elif df.endswith('xlsx'):\n",
    "        df = pd.read_excel(df)\n",
    "         \n",
    "    return df"
   ]
  },
  {
   "cell_type": "code",
   "execution_count": 164,
   "metadata": {},
   "outputs": [],
   "source": [
    "def value_counts():\n",
    "    \n",
    "    dataframe = fetch_file(data)\n",
    "    \n",
    "    for col in dataframe.columns:\n",
    "        \n",
    "        index = dataframe[col].value_counts().index.to_list()\n",
    "        values = dataframe[col].value_counts().to_list()\n",
    "        null_values =  dataframe[f'{col}'].isnull().sum()\n",
    "        final_df = pd.DataFrame()\n",
    "        final_df[f'{col}'] = index\n",
    "        final_df['Values'] = values\n",
    "        \n",
    "        null_dict = {f'{col}': 'Null values', 'Values': null_values}\n",
    "        final_df = final_df.append(null_dict, ignore_index = True)\n",
    "        \n",
    "        output_file_name = f'{col}.csv'\n",
    "        \n",
    "        final_df.to_csv(os.path.join(output, output_file_name), index=False)"
   ]
  },
  {
   "cell_type": "code",
   "execution_count": 165,
   "metadata": {
    "collapsed": true
   },
   "outputs": [
    {
     "name": "stderr",
     "output_type": "stream",
     "text": [
      "<ipython-input-164-106debcb3fd5>:15: FutureWarning: The frame.append method is deprecated and will be removed from pandas in a future version. Use pandas.concat instead.\n",
      "  final_df = final_df.append(null_dict, ignore_index = True)\n",
      "<ipython-input-164-106debcb3fd5>:15: FutureWarning: The frame.append method is deprecated and will be removed from pandas in a future version. Use pandas.concat instead.\n",
      "  final_df = final_df.append(null_dict, ignore_index = True)\n",
      "<ipython-input-164-106debcb3fd5>:15: FutureWarning: The frame.append method is deprecated and will be removed from pandas in a future version. Use pandas.concat instead.\n",
      "  final_df = final_df.append(null_dict, ignore_index = True)\n",
      "<ipython-input-164-106debcb3fd5>:15: FutureWarning: The frame.append method is deprecated and will be removed from pandas in a future version. Use pandas.concat instead.\n",
      "  final_df = final_df.append(null_dict, ignore_index = True)\n",
      "<ipython-input-164-106debcb3fd5>:15: FutureWarning: The frame.append method is deprecated and will be removed from pandas in a future version. Use pandas.concat instead.\n",
      "  final_df = final_df.append(null_dict, ignore_index = True)\n",
      "<ipython-input-164-106debcb3fd5>:15: FutureWarning: The frame.append method is deprecated and will be removed from pandas in a future version. Use pandas.concat instead.\n",
      "  final_df = final_df.append(null_dict, ignore_index = True)\n",
      "<ipython-input-164-106debcb3fd5>:15: FutureWarning: The frame.append method is deprecated and will be removed from pandas in a future version. Use pandas.concat instead.\n",
      "  final_df = final_df.append(null_dict, ignore_index = True)\n",
      "<ipython-input-164-106debcb3fd5>:15: FutureWarning: The frame.append method is deprecated and will be removed from pandas in a future version. Use pandas.concat instead.\n",
      "  final_df = final_df.append(null_dict, ignore_index = True)\n",
      "<ipython-input-164-106debcb3fd5>:15: FutureWarning: The frame.append method is deprecated and will be removed from pandas in a future version. Use pandas.concat instead.\n",
      "  final_df = final_df.append(null_dict, ignore_index = True)\n",
      "<ipython-input-164-106debcb3fd5>:15: FutureWarning: The frame.append method is deprecated and will be removed from pandas in a future version. Use pandas.concat instead.\n",
      "  final_df = final_df.append(null_dict, ignore_index = True)\n",
      "<ipython-input-164-106debcb3fd5>:15: FutureWarning: The frame.append method is deprecated and will be removed from pandas in a future version. Use pandas.concat instead.\n",
      "  final_df = final_df.append(null_dict, ignore_index = True)\n",
      "<ipython-input-164-106debcb3fd5>:15: FutureWarning: The frame.append method is deprecated and will be removed from pandas in a future version. Use pandas.concat instead.\n",
      "  final_df = final_df.append(null_dict, ignore_index = True)\n",
      "<ipython-input-164-106debcb3fd5>:15: FutureWarning: The frame.append method is deprecated and will be removed from pandas in a future version. Use pandas.concat instead.\n",
      "  final_df = final_df.append(null_dict, ignore_index = True)\n",
      "<ipython-input-164-106debcb3fd5>:15: FutureWarning: The frame.append method is deprecated and will be removed from pandas in a future version. Use pandas.concat instead.\n",
      "  final_df = final_df.append(null_dict, ignore_index = True)\n",
      "<ipython-input-164-106debcb3fd5>:15: FutureWarning: The frame.append method is deprecated and will be removed from pandas in a future version. Use pandas.concat instead.\n",
      "  final_df = final_df.append(null_dict, ignore_index = True)\n",
      "<ipython-input-164-106debcb3fd5>:15: FutureWarning: The frame.append method is deprecated and will be removed from pandas in a future version. Use pandas.concat instead.\n",
      "  final_df = final_df.append(null_dict, ignore_index = True)\n",
      "<ipython-input-164-106debcb3fd5>:15: FutureWarning: The frame.append method is deprecated and will be removed from pandas in a future version. Use pandas.concat instead.\n",
      "  final_df = final_df.append(null_dict, ignore_index = True)\n",
      "<ipython-input-164-106debcb3fd5>:15: FutureWarning: The frame.append method is deprecated and will be removed from pandas in a future version. Use pandas.concat instead.\n",
      "  final_df = final_df.append(null_dict, ignore_index = True)\n",
      "<ipython-input-164-106debcb3fd5>:15: FutureWarning: The frame.append method is deprecated and will be removed from pandas in a future version. Use pandas.concat instead.\n",
      "  final_df = final_df.append(null_dict, ignore_index = True)\n",
      "<ipython-input-164-106debcb3fd5>:15: FutureWarning: The frame.append method is deprecated and will be removed from pandas in a future version. Use pandas.concat instead.\n",
      "  final_df = final_df.append(null_dict, ignore_index = True)\n",
      "<ipython-input-164-106debcb3fd5>:15: FutureWarning: The frame.append method is deprecated and will be removed from pandas in a future version. Use pandas.concat instead.\n",
      "  final_df = final_df.append(null_dict, ignore_index = True)\n",
      "<ipython-input-164-106debcb3fd5>:15: FutureWarning: The frame.append method is deprecated and will be removed from pandas in a future version. Use pandas.concat instead.\n",
      "  final_df = final_df.append(null_dict, ignore_index = True)\n",
      "<ipython-input-164-106debcb3fd5>:15: FutureWarning: The frame.append method is deprecated and will be removed from pandas in a future version. Use pandas.concat instead.\n",
      "  final_df = final_df.append(null_dict, ignore_index = True)\n",
      "<ipython-input-164-106debcb3fd5>:15: FutureWarning: The frame.append method is deprecated and will be removed from pandas in a future version. Use pandas.concat instead.\n",
      "  final_df = final_df.append(null_dict, ignore_index = True)\n",
      "<ipython-input-164-106debcb3fd5>:15: FutureWarning: The frame.append method is deprecated and will be removed from pandas in a future version. Use pandas.concat instead.\n",
      "  final_df = final_df.append(null_dict, ignore_index = True)\n",
      "<ipython-input-164-106debcb3fd5>:15: FutureWarning: The frame.append method is deprecated and will be removed from pandas in a future version. Use pandas.concat instead.\n",
      "  final_df = final_df.append(null_dict, ignore_index = True)\n",
      "<ipython-input-164-106debcb3fd5>:15: FutureWarning: The frame.append method is deprecated and will be removed from pandas in a future version. Use pandas.concat instead.\n",
      "  final_df = final_df.append(null_dict, ignore_index = True)\n",
      "<ipython-input-164-106debcb3fd5>:15: FutureWarning: The frame.append method is deprecated and will be removed from pandas in a future version. Use pandas.concat instead.\n",
      "  final_df = final_df.append(null_dict, ignore_index = True)\n",
      "<ipython-input-164-106debcb3fd5>:15: FutureWarning: The frame.append method is deprecated and will be removed from pandas in a future version. Use pandas.concat instead.\n",
      "  final_df = final_df.append(null_dict, ignore_index = True)\n",
      "<ipython-input-164-106debcb3fd5>:15: FutureWarning: The frame.append method is deprecated and will be removed from pandas in a future version. Use pandas.concat instead.\n",
      "  final_df = final_df.append(null_dict, ignore_index = True)\n"
     ]
    }
   ],
   "source": [
    "value_counts()"
   ]
  },
  {
   "cell_type": "code",
   "execution_count": 11,
   "metadata": {},
   "outputs": [],
   "source": [
    "random = '/home/user/Swarsat_KN/value_counts/PASCO'"
   ]
  },
  {
   "cell_type": "code",
   "execution_count": 17,
   "metadata": {},
   "outputs": [],
   "source": [
    "if os.path.exists(random) == False:\n",
    "    os.makedirs(random)\n",
    "else:\n",
    "    pass"
   ]
  },
  {
   "cell_type": "code",
   "execution_count": null,
   "metadata": {},
   "outputs": [],
   "source": []
  }
 ],
 "metadata": {
  "kernelspec": {
   "display_name": "Python 3",
   "language": "python",
   "name": "python3"
  },
  "language_info": {
   "codemirror_mode": {
    "name": "ipython",
    "version": 3
   },
   "file_extension": ".py",
   "mimetype": "text/x-python",
   "name": "python",
   "nbconvert_exporter": "python",
   "pygments_lexer": "ipython3",
   "version": "3.8.5"
  }
 },
 "nbformat": 4,
 "nbformat_minor": 4
}
